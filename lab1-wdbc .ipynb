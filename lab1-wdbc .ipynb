{
 "cells": [
  {
   "cell_type": "code",
   "execution_count": 8,
   "metadata": {},
   "outputs": [],
   "source": [
    "import pandas as pd\n",
    "import sklearn as sk\n",
    "import numpy as np\n",
    "import matplotlib.pyplot as plt\n",
    "%matplotlib inline\n",
    "df = pd.read_csv(\"wdbc.data\", header = None)"
   ]
  },
  {
   "cell_type": "code",
   "execution_count": 9,
   "metadata": {},
   "outputs": [],
   "source": [
    "#change column label from numerical index to these labels\n",
    "\n",
    "column_labels = ['patient_id', 'diagnosis', 'mean radius', 'mean texture', 'mean perimeter', 'mean area',\n",
    "'mean smoothness', 'mean compactness', 'mean concavity',\n",
    "'mean concave points', 'mean symmetry', 'mean fractal dimension',\n",
    "'radius error', 'texture error', 'perimeter error', 'area error',\n",
    "'smoothness error', 'compactness error', 'concavity error',\n",
    "'concave points error', 'symmetry error',\n",
    "'fractal dimension error', 'worst radius', 'worst texture',\n",
    "'worst perimeter', 'worst area', 'worst smoothness',\n",
    "'worst compactness', 'worst concavity', 'worst concave points',\n",
    "'worst symmetry', 'worst fractal dimension']\n",
    "\n",
    "df.columns = column_labels"
   ]
  },
  {
   "cell_type": "code",
   "execution_count": 10,
   "metadata": {},
   "outputs": [],
   "source": [
    "#change the labeling in 'diagnosis'\n",
    "\n",
    "df.diagnosis.unique() #confirm that there are only B and M labels\n",
    "\n",
    "df['diagnosis'].replace(\"B\", 'Benign', inplace = True)\n",
    "df['diagnosis'].replace('M', 'Malignant', inplace = True)"
   ]
  },
  {
   "cell_type": "code",
   "execution_count": 11,
   "metadata": {},
   "outputs": [],
   "source": [
    "#split our data into feature vectors and labels\n",
    "\n",
    "feature_df = df.iloc[:, 2:] #exclude the first row - patient_id\n",
    "\n",
    "label_df = df.iloc[:,1]"
   ]
  },
  {
   "cell_type": "code",
   "execution_count": 12,
   "metadata": {},
   "outputs": [],
   "source": [
    "#standardize the feature vectors\n",
    "\n",
    "from sklearn.preprocessing import StandardScaler\n",
    "\n",
    "x = StandardScaler().fit_transform(feature_df) #mean = 0, std = 1"
   ]
  },
  {
   "cell_type": "code",
   "execution_count": 13,
   "metadata": {},
   "outputs": [],
   "source": [
    "#use PCA for dimension reduction of the feature vectors\n",
    "\n",
    "from sklearn.decomposition import PCA\n",
    "\n",
    "#we can put in the number of components we want returned - \n",
    "\n",
    "pca_breast = PCA(n_components = 2) #assign 2 components to the PCA\n",
    "\n",
    "principalComponents_breast = pca_breast.fit_transform(x)\n",
    "\n",
    "principal_breast_df = pd.DataFrame(data = principalComponents_breast, columns = ['PC1', 'PC2'])"
   ]
  },
  {
   "cell_type": "code",
   "execution_count": 14,
   "metadata": {},
   "outputs": [
    {
     "data": {
      "text/plain": [
       "array([0.44272026, 0.18971182])"
      ]
     },
     "execution_count": 14,
     "metadata": {},
     "output_type": "execute_result"
    }
   ],
   "source": [
    "#check how much of the variance is covered by 2 components\n",
    "pca_breast.explained_variance_ratio_"
   ]
  },
  {
   "cell_type": "code",
   "execution_count": 15,
   "metadata": {},
   "outputs": [
    {
     "data": {
      "image/png": "[encoded data removed]",
      "text/plain": [
       "<Figure size 432x288 with 1 Axes>"
      ]
     },
     "metadata": {
      "needs_background": "light"
     },
     "output_type": "display_data"
    }
   ],
   "source": [
    "#plot a graph of how the 2 components from the PCA show the cancer's diagnosis\n",
    "plt.figure()\n",
    "\n",
    "plt.xlabel('PC1')\n",
    "plt.ylabel('PC2')\n",
    "targets = ['Benign', 'Malignant']\n",
    "colors = ['b', 'r']\n",
    "\n",
    "for target, color in zip(targets, colors):\n",
    "    indeciesToKeep = label_df == target\n",
    "    plt.scatter(principal_breast_df.loc[indeciesToKeep, 'PC1'], \n",
    "                principal_breast_df.loc[indeciesToKeep, 'PC2'], \n",
    "                c = color)"
   ]
  },
  {
   "cell_type": "code",
   "execution_count": 16,
   "metadata": {},
   "outputs": [
    {
     "name": "stdout",
     "output_type": "stream",
     "text": [
      " 0: 0.4427\n",
      " 1: 0.1897\n",
      " 2: 0.0939\n",
      " 3: 0.0660\n",
      " 4: 0.0550\n",
      " 5: 0.0402\n",
      " 6: 0.0225\n",
      " 7: 0.0159\n",
      " 8: 0.0139\n",
      " 9: 0.0117\n",
      "10: 0.0098\n",
      "11: 0.0087\n",
      "12: 0.0080\n",
      "13: 0.0052\n",
      "14: 0.0031\n",
      "15: 0.0027\n",
      "16: 0.0020\n",
      "17: 0.0018\n",
      "18: 0.0016\n",
      "19: 0.0010\n",
      "20: 0.0010\n",
      "21: 0.0009\n",
      "22: 0.0008\n",
      "23: 0.0006\n",
      "24: 0.0005\n",
      "25: 0.0003\n",
      "26: 0.0002\n",
      "27: 0.0001\n",
      "28: 0.0000\n",
      "29: 0.0000\n"
     ]
    }
   ],
   "source": [
    "#calculate all 30 PCA and how much they cover\n",
    "pca = PCA().fit(x)\n",
    "evr = pca.explained_variance_ratio_ #find the variance of all the 30 feature vectors\n",
    "print('\\n'.join('{:2d}: {:0.4f}'.format(*k) for k in enumerate(evr)))"
   ]
  },
  {
   "cell_type": "code",
   "execution_count": 15,
   "metadata": {},
   "outputs": [
    {
     "data": {
      "text/plain": [
       "1.0000000000000002"
      ]
     },
     "execution_count": 15,
     "metadata": {},
     "output_type": "execute_result"
    }
   ],
   "source": [
    "#check variance ratio: should be close to 1\n",
    "sum(evr)"
   ]
  },
  {
   "cell_type": "code",
   "execution_count": 16,
   "metadata": {},
   "outputs": [
    {
     "data": {
      "text/plain": [
       "Text(0.5, 0, 'Number of components')"
      ]
     },
     "execution_count": 16,
     "metadata": {},
     "output_type": "execute_result"
    },
    {
     "data": {
      "image/png": "[encoded data removed]",
      "text/plain": [
       "<Figure size 432x288 with 1 Axes>"
      ]
     },
     "metadata": {
      "needs_background": "light"
     },
     "output_type": "display_data"
    }
   ],
   "source": [
    "#plot the 30 PCA\n",
    "\n",
    "plt.plot(np.cumsum(pca.explained_variance_ratio_))\n",
    "plt.xlabel('Number of components')"
   ]
  }
 ],
 "metadata": {
  "kernelspec": {
   "display_name": "Python 3",
   "language": "python",
   "name": "python3"
  },
  "language_info": {
   "codemirror_mode": {
    "name": "ipython",
    "version": 3
   },
   "file_extension": ".py",
   "mimetype": "text/x-python",
   "name": "python",
   "nbconvert_exporter": "python",
   "pygments_lexer": "ipython3",
   "version": "3.7.3"
  }
 },
 "nbformat": 4,
 "nbformat_minor": 2
}
